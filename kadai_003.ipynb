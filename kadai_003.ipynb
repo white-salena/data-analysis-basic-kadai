{
 "cells": [
  {
   "cell_type": "code",
   "execution_count": 9,
   "id": "587f91ef-8a8d-479c-87fa-5099ed1776dc",
   "metadata": {},
   "outputs": [
    {
     "name": "stdout",
     "output_type": "stream",
     "text": [
      "[[ 4  5  6  7]\n",
      " [12 17 22 27]\n",
      " [20 29 38 47]]\n"
     ]
    },
    {
     "data": {
      "text/plain": [
       "47"
      ]
     },
     "execution_count": 9,
     "metadata": {},
     "output_type": "execute_result"
    }
   ],
   "source": [
    "import numpy as np\n",
    "\n",
    "A = np.array([[0,1],[2,3],[4,5]])\n",
    "\n",
    "B = np.array([[0,1,2,3],[4,5,6,7]])\n",
    "\n",
    "result = np.dot(A,B)\n",
    "print(result)\n",
    "\n",
    "result.max()"
   ]
  }
 ],
 "metadata": {
  "kernelspec": {
   "display_name": "Python 3 (ipykernel)",
   "language": "python",
   "name": "python3"
  },
  "language_info": {
   "codemirror_mode": {
    "name": "ipython",
    "version": 3
   },
   "file_extension": ".py",
   "mimetype": "text/x-python",
   "name": "python",
   "nbconvert_exporter": "python",
   "pygments_lexer": "ipython3",
   "version": "3.11.5"
  }
 },
 "nbformat": 4,
 "nbformat_minor": 5
}
